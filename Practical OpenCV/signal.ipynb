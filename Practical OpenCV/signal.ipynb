{
 "cells": [
  {
   "cell_type": "code",
   "execution_count": 14,
   "metadata": {},
   "outputs": [],
   "source": [
    "import numpy as np\n",
    "import cv2\n",
    "from scipy.signal import convolve2d"
   ]
  },
  {
   "cell_type": "code",
   "execution_count": 5,
   "metadata": {},
   "outputs": [
    {
     "data": {
      "text/plain": [
       "255"
      ]
     },
     "execution_count": 5,
     "metadata": {},
     "output_type": "execute_result"
    }
   ],
   "source": [
    "image = cv2.imread('./image/new_eagle.png')\n",
    "image = cv2.cvtColor(image, cv2.COLOR_RGB2GRAY)\n",
    "cv2.imshow('Original', image)\n",
    "cv2.waitKey(0)"
   ]
  },
  {
   "cell_type": "code",
   "execution_count": null,
   "metadata": {},
   "outputs": [],
   "source": [
    "fil = np.array([[-1, 0, 1], [-2, 0, 2], [-1, 0, 1]])*1/8\n",
    "fil2 = np.array([[0, -1, 0], [-1, 4, -1], [0, -1, 0]]) * 1/8\n",
    "image_new = convolve2d(image, fil, mode='valid')\n",
    "image_new3 = convolve2d(image, fil.T, mode='valid')\n",
    "image_new2 = convolve2d(image, fil2, mode='valid')\n",
    "\n",
    "cv2.imshow('Original', image)\n",
    "# cv2.waitKey(0)\n",
    "cv2.imshow('New', image_new)\n",
    "cv2.imshow('New 2', image_new2)\n",
    "cv2.imshow('New 3', image_new3)\n",
    "cv2.waitKey(0)"
   ]
  },
  {
   "cell_type": "code",
   "execution_count": 12,
   "metadata": {},
   "outputs": [
    {
     "name": "stdout",
     "output_type": "stream",
     "text": [
      "[[ 0.     0.     0.    ... -0.125  0.     0.   ]\n",
      " [ 0.     0.     0.    ... -0.125  0.     0.   ]\n",
      " [ 0.     0.     0.    ...  0.125  0.125  0.125]\n",
      " ...\n",
      " [ 0.     0.    -0.25  ...  0.     0.     0.   ]\n",
      " [ 0.125 -0.25   0.25  ...  0.     0.     0.   ]\n",
      " [-0.125  0.25  -0.125 ...  0.     0.     0.   ]]\n"
     ]
    }
   ],
   "source": [
    "print(image_new2)"
   ]
  },
  {
   "cell_type": "code",
   "execution_count": null,
   "metadata": {},
   "outputs": [],
   "source": []
  },
  {
   "cell_type": "code",
   "execution_count": null,
   "metadata": {},
   "outputs": [],
   "source": []
  },
  {
   "cell_type": "code",
   "execution_count": null,
   "metadata": {},
   "outputs": [],
   "source": []
  },
  {
   "cell_type": "code",
   "execution_count": null,
   "metadata": {},
   "outputs": [],
   "source": []
  }
 ],
 "metadata": {
  "kernelspec": {
   "display_name": "Python 3",
   "language": "python",
   "name": "python3"
  },
  "language_info": {
   "codemirror_mode": {
    "name": "ipython",
    "version": 3
   },
   "file_extension": ".py",
   "mimetype": "text/x-python",
   "name": "python",
   "nbconvert_exporter": "python",
   "pygments_lexer": "ipython3",
   "version": "3.6.6"
  }
 },
 "nbformat": 4,
 "nbformat_minor": 2
}
